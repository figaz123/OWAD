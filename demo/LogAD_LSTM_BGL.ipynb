{
  "cells": [
    {
      "cell_type": "markdown",
      "id": "cded59a6",
      "metadata": {
        "id": "cded59a6"
      },
      "source": [
        "## Intro\n",
        "This code shows an example of using OWAD upon **normal-confidence** anomaly detection models. Here we use a Log Anomaly Detection case with `DeepLog` (aka LSTM) as the anomaly detection model and `BGL` as the log dataset.\n"
      ]
    },
    {
      "cell_type": "code",
      "source": [
        "!wget https://raw.githubusercontent.com/figaz123/OWAD/main/admodels/DeepLog.py\n",
        "!wget https://raw.githubusercontent.com/figaz123/OWAD/main/moudles/calibrator.py\n",
        "!wget https://raw.githubusercontent.com/figaz123/OWAD/main/moudles/shifthunter.py\n",
        "!wget https://raw.githubusercontent.com/figaz123/OWAD/main/myutils.py\n",
        "!wget https://raw.githubusercontent.com/figaz123/OWAD/main/configs.yml"
      ],
      "metadata": {
        "id": "KsS9nK7FDqGb",
        "outputId": "77e76cab-4a63-4ecc-b85f-82e68e2353ef",
        "colab": {
          "base_uri": "https://localhost:8080/"
        }
      },
      "id": "KsS9nK7FDqGb",
      "execution_count": 1,
      "outputs": [
        {
          "output_type": "stream",
          "name": "stdout",
          "text": [
            "--2024-03-28 13:11:26--  https://raw.githubusercontent.com/figaz123/OWAD/main/admodels/DeepLog.py\n",
            "Resolving raw.githubusercontent.com (raw.githubusercontent.com)... 185.199.108.133, 185.199.109.133, 185.199.110.133, ...\n",
            "Connecting to raw.githubusercontent.com (raw.githubusercontent.com)|185.199.108.133|:443... connected.\n",
            "HTTP request sent, awaiting response... 200 OK\n",
            "Length: 5484 (5.4K) [text/plain]\n",
            "Saving to: ‘DeepLog.py’\n",
            "\n",
            "\rDeepLog.py            0%[                    ]       0  --.-KB/s               \rDeepLog.py          100%[===================>]   5.36K  --.-KB/s    in 0s      \n",
            "\n",
            "2024-03-28 13:11:26 (35.2 MB/s) - ‘DeepLog.py’ saved [5484/5484]\n",
            "\n",
            "--2024-03-28 13:11:27--  https://raw.githubusercontent.com/figaz123/OWAD/main/moudles/calibrator.py\n",
            "Resolving raw.githubusercontent.com (raw.githubusercontent.com)... 185.199.108.133, 185.199.109.133, 185.199.110.133, ...\n",
            "Connecting to raw.githubusercontent.com (raw.githubusercontent.com)|185.199.108.133|:443... connected.\n",
            "HTTP request sent, awaiting response... 200 OK\n",
            "Length: 4332 (4.2K) [text/plain]\n",
            "Saving to: ‘calibrator.py’\n",
            "\n",
            "calibrator.py       100%[===================>]   4.23K  --.-KB/s    in 0s      \n",
            "\n",
            "2024-03-28 13:11:27 (65.2 MB/s) - ‘calibrator.py’ saved [4332/4332]\n",
            "\n",
            "--2024-03-28 13:11:27--  https://raw.githubusercontent.com/figaz123/OWAD/main/moudles/shifthunter.py\n",
            "Resolving raw.githubusercontent.com (raw.githubusercontent.com)... 185.199.108.133, 185.199.109.133, 185.199.110.133, ...\n",
            "Connecting to raw.githubusercontent.com (raw.githubusercontent.com)|185.199.108.133|:443... connected.\n",
            "HTTP request sent, awaiting response... 200 OK\n",
            "Length: 27988 (27K) [text/plain]\n",
            "Saving to: ‘shifthunter.py’\n",
            "\n",
            "shifthunter.py      100%[===================>]  27.33K  --.-KB/s    in 0.001s  \n",
            "\n",
            "2024-03-28 13:11:27 (33.1 MB/s) - ‘shifthunter.py’ saved [27988/27988]\n",
            "\n",
            "--2024-03-28 13:11:27--  https://raw.githubusercontent.com/figaz123/OWAD/main/myutils.py\n",
            "Resolving raw.githubusercontent.com (raw.githubusercontent.com)... 185.199.111.133, 185.199.108.133, 185.199.109.133, ...\n",
            "Connecting to raw.githubusercontent.com (raw.githubusercontent.com)|185.199.111.133|:443... connected.\n",
            "HTTP request sent, awaiting response... 200 OK\n",
            "Length: 3111 (3.0K) [text/plain]\n",
            "Saving to: ‘myutils.py’\n",
            "\n",
            "myutils.py          100%[===================>]   3.04K  --.-KB/s    in 0s      \n",
            "\n",
            "2024-03-28 13:11:27 (55.5 MB/s) - ‘myutils.py’ saved [3111/3111]\n",
            "\n",
            "--2024-03-28 13:11:27--  https://raw.githubusercontent.com/figaz123/OWAD/main/configs.yml\n",
            "Resolving raw.githubusercontent.com (raw.githubusercontent.com)... 185.199.108.133, 185.199.109.133, 185.199.110.133, ...\n",
            "Connecting to raw.githubusercontent.com (raw.githubusercontent.com)|185.199.108.133|:443... connected.\n",
            "HTTP request sent, awaiting response... 200 OK\n",
            "Length: 807 [text/plain]\n",
            "Saving to: ‘configs.yml’\n",
            "\n",
            "configs.yml         100%[===================>]     807  --.-KB/s    in 0s      \n",
            "\n",
            "2024-03-28 13:11:27 (55.6 MB/s) - ‘configs.yml’ saved [807/807]\n",
            "\n"
          ]
        }
      ]
    },
    {
      "cell_type": "code",
      "execution_count": 3,
      "id": "897ed7ac",
      "metadata": {
        "id": "897ed7ac",
        "outputId": "bbfb2eaf-8f05-4cc3-8418-7be5ff6e2b06",
        "colab": {
          "base_uri": "https://localhost:8080/"
        }
      },
      "outputs": [
        {
          "output_type": "stream",
          "name": "stdout",
          "text": [
            "The autoreload extension is already loaded. To reload it, use:\n",
            "  %reload_ext autoreload\n"
          ]
        }
      ],
      "source": [
        "%load_ext autoreload\n",
        "%autoreload 2\n",
        "## import packages\n",
        "import sys\n",
        "# sys.path.append('../admodels/')\n",
        "# sys.path.append('../moudles/')\n",
        "# sys.path.append('../baselines/')\n",
        "# sys.path.append('../')\n",
        "import numpy as np\n",
        "from sklearn.preprocessing import MinMaxScaler\n",
        "from sklearn import metrics\n",
        "import _pickle as pkl\n",
        "import DeepLog\n",
        "from calibrator import Calibrator\n",
        "from shifthunter import ShiftHunter\n",
        "import myutils as utils"
      ]
    },
    {
      "cell_type": "code",
      "execution_count": 5,
      "id": "4fd90f97",
      "metadata": {
        "id": "4fd90f97"
      },
      "outputs": [],
      "source": [
        "# Load control and treatment data\n",
        "con_seq = np.load('/content/logad_con.npz')\n",
        "X_ic, X_oc, y_c = con_seq['input'], con_seq['output'], con_seq['label']\n",
        "tre_seq = np.load('/content/logad_tre.npz')\n",
        "X_it, X_ot, y_t = tre_seq['input'], tre_seq['output'], tre_seq['label']"
      ]
    },
    {
      "cell_type": "markdown",
      "id": "d50c7e3c",
      "metadata": {
        "id": "d50c7e3c"
      },
      "source": [
        "## Prepare AD model and data"
      ]
    },
    {
      "cell_type": "code",
      "execution_count": 6,
      "id": "31208a2f",
      "metadata": {
        "id": "31208a2f",
        "outputId": "d160c4ce-6869-47fd-9417-36c8a2bd0f1b",
        "colab": {
          "base_uri": "https://localhost:8080/"
        }
      },
      "outputs": [
        {
          "output_type": "stream",
          "name": "stdout",
          "text": [
            "Epoch [1/20], train_loss: 3.1407\n",
            "Epoch [2/20], train_loss: 1.3234\n",
            "Epoch [3/20], train_loss: 1.0445\n",
            "Epoch [4/20], train_loss: 0.7898\n",
            "Epoch [5/20], train_loss: 0.6322\n",
            "Epoch [6/20], train_loss: 0.4210\n",
            "Epoch [7/20], train_loss: 0.3273\n",
            "Epoch [8/20], train_loss: 0.2751\n",
            "Epoch [9/20], train_loss: 0.2357\n",
            "Epoch [10/20], train_loss: 0.2069\n",
            "Epoch [11/20], train_loss: 0.1878\n",
            "Epoch [12/20], train_loss: 0.1753\n",
            "Epoch [13/20], train_loss: 0.1659\n",
            "Epoch [14/20], train_loss: 0.1581\n",
            "Epoch [15/20], train_loss: 0.1525\n",
            "Epoch [16/20], train_loss: 0.1474\n",
            "Epoch [17/20], train_loss: 0.1426\n",
            "Epoch [18/20], train_loss: 0.1397\n",
            "Epoch [19/20], train_loss: 0.1366\n",
            "Epoch [20/20], train_loss: 0.1332\n",
            "Finished Training\n"
          ]
        }
      ],
      "source": [
        "# training DeepLog model\n",
        "utils.set_random_seed()\n",
        "train_num = 100000\n",
        "X_train = {'input':X_ic[y_c==0][:train_num], 'output':X_oc[y_c==0][:train_num]}\n",
        "model = DeepLog.train(X_train)"
      ]
    },
    {
      "cell_type": "code",
      "execution_count": 7,
      "id": "a99e28e4",
      "metadata": {
        "id": "a99e28e4",
        "outputId": "a9a7559a-59f1-4e2a-859a-4e0d7f3ef064",
        "colab": {
          "base_uri": "https://localhost:8080/"
        }
      },
      "outputs": [
        {
          "output_type": "stream",
          "name": "stdout",
          "text": [
            "Test in Control set:\n",
            "f1-score: 0.8986315255955398 precision: 0.8961334344200151 recall: 0.901143583227446\n",
            "Test in Treatment set:\n",
            "f1-score: 0.448512585812357 precision: 0.298679309177108 recall: 0.9\n"
          ]
        }
      ],
      "source": [
        "## test performance at control set and treament set (testing data)\n",
        "pred_con, prob_con = DeepLog.test(model, {'input':X_ic, 'output':X_oc})\n",
        "print('Test in Control set:')\n",
        "print('f1-score:', metrics.f1_score(y_c, pred_con),\n",
        "      'precision:', metrics.precision_score(y_c, pred_con),\n",
        "      'recall:', metrics.recall_score(y_c, pred_con)\n",
        "     )\n",
        "\n",
        "pred_tre, prob_tre = DeepLog.test(model, {'input':X_it, 'output':X_ot})\n",
        "print('Test in Treatment set:')\n",
        "print('f1-score:', metrics.f1_score(y_t, pred_tre),\n",
        "      'precision:', metrics.precision_score(y_t, pred_tre),\n",
        "      'recall:', metrics.recall_score(y_t, pred_tre)\n",
        "     )"
      ]
    },
    {
      "cell_type": "markdown",
      "id": "1227d97f",
      "metadata": {
        "id": "1227d97f"
      },
      "source": [
        "**(As we can see that, the performance decreases sharply from 0.89 to 0.44)**"
      ]
    },
    {
      "cell_type": "code",
      "execution_count": 8,
      "id": "fdb3eca2",
      "metadata": {
        "id": "fdb3eca2"
      },
      "outputs": [],
      "source": [
        "## get validation data of control set and treament set\n",
        "vali_num = 100000\n",
        "X_con, y_con = {'input':X_ic[:vali_num], 'output':X_oc[:vali_num]}, y_c[:vali_num]\n",
        "X_tre, y_tre = {'input':X_it[:vali_num], 'output':X_ot[:vali_num]}, y_t[:vali_num]\n",
        "prob_con = prob_con[:vali_num]\n",
        "prob_tre = prob_tre[:vali_num]"
      ]
    },
    {
      "cell_type": "markdown",
      "id": "b5aa921f",
      "metadata": {
        "id": "b5aa921f"
      },
      "source": [
        "## Let's use OWAD！"
      ]
    },
    {
      "cell_type": "code",
      "execution_count": 9,
      "id": "7a5d626e",
      "metadata": {
        "id": "7a5d626e",
        "outputId": "015bd3c1-496a-494b-e38e-2841692cdea7",
        "colab": {
          "base_uri": "https://localhost:8080/",
          "height": 534
        }
      },
      "outputs": [
        {
          "output_type": "stream",
          "name": "stdout",
          "text": [
            "NOTICE: Initialize OWAD Calibrator Under **Isotonic** Method!\n",
            "NOTICE: uncalibrated Probs is **BENIGN** confidence\n",
            "NOTICE: Initilize OWAD Shift Handler Under **Seq** Mode!\n",
            "Non-shift, p_value: 0.06293706293706294\n",
            "Non-shift, skip explain and adaptation!\n",
            "Visualize Shift:\n"
          ]
        },
        {
          "output_type": "display_data",
          "data": {
            "text/plain": [
              "<Figure size 640x480 with 1 Axes>"
            ],
            "image/png": "[encoded data removed]"
          },
          "metadata": {}
        }
      ],
      "source": [
        "utils.set_random_seed()\n",
        "\n",
        "## detect shift with OWAD\n",
        "cb = Calibrator(X_con, method='Isotonic')\n",
        "cb.set_calibrator(prob_con, is_P_mal=False)\n",
        "sh = ShiftHunter(prob_con, prob_tre, cb, ad_type='Seq')\n",
        "t = utils.get_params('ShiftDetector')['test_thres']\n",
        "p_value = sh.permu_test()\n",
        "if p_value >= t:\n",
        "    print(\"Non-shift, p_value:\", p_value)\n",
        "    print(\"Non-shift, skip explain and adaptation!\")\n",
        "else:\n",
        "    print('Shift! P-value is', p_value)\n",
        "print(\"Visualize Shift:\")\n",
        "sh.visualize_hists()"
      ]
    },
    {
      "cell_type": "code",
      "execution_count": 10,
      "id": "eb0b5c47",
      "metadata": {
        "id": "eb0b5c47",
        "outputId": "e04a4d66-b9f0-473c-e74c-ec74f4f27a0d",
        "colab": {
          "base_uri": "https://localhost:8080/"
        }
      },
      "outputs": [
        {
          "output_type": "stream",
          "name": "stdout",
          "text": [
            "step:0 |Loss:16.0000 |Accuracy_Loss:1.0000 |Overhead_Loss:1.0000 |Determinism_Loss:1.0000 |M_c num: 50165 |M_t num: 50066\n",
            "step:10 |Loss:15.5985 |Accuracy_Loss:0.9401 |Overhead_Loss:0.9884 |Determinism_Loss:1.0144 |M_c num: 49710 |M_t num: 49562\n",
            "step:20 |Loss:15.2262 |Accuracy_Loss:0.8855 |Overhead_Loss:0.9774 |Determinism_Loss:1.0248 |M_c num: 49265 |M_t num: 48933\n",
            "step:30 |Loss:14.8671 |Accuracy_Loss:0.8328 |Overhead_Loss:0.9671 |Determinism_Loss:1.0321 |M_c num: 48787 |M_t num: 48193\n",
            "step:40 |Loss:14.5207 |Accuracy_Loss:0.7816 |Overhead_Loss:0.9576 |Determinism_Loss:1.0364 |M_c num: 48404 |M_t num: 47349\n",
            "step:49 |Loss:14.2178 |Accuracy_Loss:0.7364 |Overhead_Loss:0.9498 |Determinism_Loss:1.0379 |M_c num: 48078 |M_t num: 46529\n",
            "get X_c, X_t (len): 100000 100000\n",
            "** Cliping <remain_X_t> ...\n",
            "NOTICE: simulating labelling...\n",
            "Filter 11 anomalies in remain_X_tre\n",
            "Remain X_c, X_t (len): 51938 29989\n",
            "Adapter: Begin Processing ... \n",
            "Estimating Params Weight:0/8193\n",
            "Estimating Params Weight:1000/8193\n",
            "Estimating Params Weight:2000/8193\n",
            "Estimating Params Weight:3000/8193\n",
            "Estimating Params Weight:4000/8193\n",
            "Estimating Params Weight:5000/8193\n",
            "Estimating Params Weight:6000/8193\n",
            "Estimating Params Weight:7000/8193\n",
            "Estimating Params Weight:8000/8193\n",
            "epoch:0 ,step:0 |Distrib_Loss:0.4093 |benign probs: 10.571346\n",
            "epoch:0 ,step:50 |Distrib_Loss:0.2728 |benign probs: 10.517852\n",
            "epoch:1 ,step:0 |Distrib_Loss:0.2691 |benign probs: 10.511393\n",
            "epoch:1 ,step:50 |Distrib_Loss:0.2386 |benign probs: 10.513471\n",
            "epoch:2 ,step:0 |Distrib_Loss:0.2562 |benign probs: 10.389822\n",
            "epoch:2 ,step:50 |Distrib_Loss:0.2692 |benign probs: 10.591879\n",
            "epoch:3 ,step:0 |Distrib_Loss:0.2331 |benign probs: 10.6051\n",
            "epoch:3 ,step:50 |Distrib_Loss:0.1940 |benign probs: 10.714745\n",
            "epoch:4 ,step:0 |Distrib_Loss:0.1968 |benign probs: 10.64435\n",
            "epoch:4 ,step:50 |Distrib_Loss:0.1930 |benign probs: 10.655501\n",
            "epoch:5 ,step:0 |Distrib_Loss:0.1513 |benign probs: 10.770298\n",
            "epoch:5 ,step:50 |Distrib_Loss:0.2036 |benign probs: 10.899954\n",
            "epoch:6 ,step:0 |Distrib_Loss:0.1769 |benign probs: 10.8752575\n",
            "epoch:6 ,step:50 |Distrib_Loss:0.1600 |benign probs: 10.881346\n",
            "epoch:7 ,step:0 |Distrib_Loss:0.1412 |benign probs: 10.917274\n",
            "epoch:7 ,step:50 |Distrib_Loss:0.1690 |benign probs: 10.719276\n",
            "epoch:8 ,step:0 |Distrib_Loss:0.1175 |benign probs: 10.782236\n",
            "epoch:8 ,step:50 |Distrib_Loss:0.1086 |benign probs: 10.78628\n",
            "epoch:9 ,step:0 |Distrib_Loss:0.1175 |benign probs: 10.886973\n",
            "epoch:9 ,step:50 |Distrib_Loss:0.1417 |benign probs: 10.906243\n"
          ]
        }
      ],
      "source": [
        "utils.set_random_seed()\n",
        "\n",
        "## explain and adapt to shift with OWAD\n",
        "ohd_bgt = 30000\n",
        "exp_result = sh.explainer(X_tre, y_tre, label_num = ohd_bgt) # , auto_cali_thres=True\n",
        "sh.adapter(model)"
      ]
    },
    {
      "cell_type": "code",
      "execution_count": 11,
      "id": "058387b4",
      "metadata": {
        "id": "058387b4",
        "outputId": "21ddc114-199e-4e08-cd72-5e2e90c0debe",
        "colab": {
          "base_uri": "https://localhost:8080/"
        }
      },
      "outputs": [
        {
          "output_type": "stream",
          "name": "stdout",
          "text": [
            "After OWAD Adaptation:\n",
            "f1-score: 0.8 precision: 0.7226337448559671 recall: 0.8959183673469387\n"
          ]
        }
      ],
      "source": [
        "## Test the performance after OWAD adaptation\n",
        "print('After OWAD Adaptation:')\n",
        "pred_tre, prob_tre = DeepLog.test(sh.model, {'input':X_it, 'output':X_ot})\n",
        "print('f1-score:', metrics.f1_score(y_t, pred_tre),\n",
        "      'precision:', metrics.precision_score(y_t, pred_tre),\n",
        "      'recall:', metrics.recall_score(y_t, pred_tre)\n",
        "     )"
      ]
    },
    {
      "cell_type": "markdown",
      "id": "872dc61a",
      "metadata": {
        "id": "872dc61a"
      },
      "source": [
        "**(As we can see that, OWAD Adaptation significantly improves the performance of AD models from 0.44 to 0.78 with 30k labels, which is 30% of validation set and 15% of testing set)**"
      ]
    },
    {
      "cell_type": "markdown",
      "id": "5a71159e",
      "metadata": {
        "id": "5a71159e"
      },
      "source": [
        "### Compared with retraining"
      ]
    },
    {
      "cell_type": "code",
      "execution_count": 12,
      "id": "f59bfcb8",
      "metadata": {
        "id": "f59bfcb8",
        "outputId": "d1583e2e-84aa-4baf-e96d-3a0d0dd47fd8",
        "colab": {
          "base_uri": "https://localhost:8080/"
        }
      },
      "outputs": [
        {
          "output_type": "stream",
          "name": "stdout",
          "text": [
            "Epoch [1/20], train_loss: 2.4087\n",
            "Epoch [2/20], train_loss: 0.7089\n",
            "Epoch [3/20], train_loss: 0.5786\n",
            "Epoch [4/20], train_loss: 0.3888\n",
            "Epoch [5/20], train_loss: 0.2321\n",
            "Epoch [6/20], train_loss: 0.1784\n",
            "Epoch [7/20], train_loss: 0.1514\n",
            "Epoch [8/20], train_loss: 0.1459\n",
            "Epoch [9/20], train_loss: 0.1335\n",
            "Epoch [10/20], train_loss: 0.1290\n",
            "Epoch [11/20], train_loss: 0.1270\n",
            "Epoch [12/20], train_loss: 0.1177\n",
            "Epoch [13/20], train_loss: 0.1137\n",
            "Epoch [14/20], train_loss: 0.1103\n",
            "Epoch [15/20], train_loss: 0.1070\n",
            "Epoch [16/20], train_loss: 0.1045\n",
            "Epoch [17/20], train_loss: 0.1018\n",
            "Epoch [18/20], train_loss: 0.0996\n",
            "Epoch [19/20], train_loss: 0.0974\n",
            "Epoch [20/20], train_loss: 0.0957\n",
            "Finished Training\n",
            "After Retraining:\n",
            "f1-score: 0.5420443888715224 precision: 0.3907165389815232 recall: 0.8846938775510204\n"
          ]
        }
      ],
      "source": [
        "utils.set_random_seed()\n",
        "\n",
        "## retraining with all old samples and `ohd_bgt` new samples\n",
        "X_retrain = {'input': np.concatenate((X_ic[y_c==0][:train_num], X_tre['input'][:ohd_bgt])),\n",
        "             'output': np.concatenate((X_oc[y_c==0][:train_num], X_tre['output'][:ohd_bgt]))}\n",
        "retrain_model = DeepLog.train(X_retrain)\n",
        "\n",
        "## test the performance of retraining model\n",
        "pred_tre, prob_tre = DeepLog.test(retrain_model, {'input':X_it, 'output':X_ot})\n",
        "print('After Retraining:')\n",
        "print('f1-score:', metrics.f1_score(y_t, pred_tre),\n",
        "      'precision:', metrics.precision_score(y_t, pred_tre),\n",
        "      'recall:', metrics.recall_score(y_t, pred_tre)\n",
        "     )"
      ]
    },
    {
      "cell_type": "markdown",
      "id": "6ed1158f",
      "metadata": {
        "id": "6ed1158f"
      },
      "source": [
        "**The result shows that retraining fails to improve the performance in this case.**"
      ]
    }
  ],
  "metadata": {
    "hide_input": false,
    "kernelspec": {
      "display_name": "Python [conda env:dq37]",
      "language": "python",
      "name": "conda-env-dq37-py"
    },
    "language_info": {
      "codemirror_mode": {
        "name": "ipython",
        "version": 3
      },
      "file_extension": ".py",
      "mimetype": "text/x-python",
      "name": "python",
      "nbconvert_exporter": "python",
      "pygments_lexer": "ipython3",
      "version": "3.7.12"
    },
    "toc": {
      "base_numbering": 1,
      "nav_menu": {},
      "number_sections": true,
      "sideBar": true,
      "skip_h1_title": false,
      "title_cell": "Table of Contents",
      "title_sidebar": "Contents",
      "toc_cell": false,
      "toc_position": {},
      "toc_section_display": true,
      "toc_window_display": false
    },
    "varInspector": {
      "cols": {
        "lenName": 16,
        "lenType": 16,
        "lenVar": 40
      },
      "kernels_config": {
        "python": {
          "delete_cmd_postfix": "",
          "delete_cmd_prefix": "del ",
          "library": "var_list.py",
          "varRefreshCmd": "print(var_dic_list())"
        },
        "r": {
          "delete_cmd_postfix": ") ",
          "delete_cmd_prefix": "rm(",
          "library": "var_list.r",
          "varRefreshCmd": "cat(var_dic_list()) "
        }
      },
      "types_to_exclude": [
        "module",
        "function",
        "builtin_function_or_method",
        "instance",
        "_Feature"
      ],
      "window_display": false
    },
    "colab": {
      "provenance": [],
      "gpuType": "T4"
    },
    "accelerator": "GPU"
  },
  "nbformat": 4,
  "nbformat_minor": 5
}